{
 "cells": [
  {
   "cell_type": "code",
   "execution_count": 1,
   "metadata": {},
   "outputs": [],
   "source": [
    "import pandas as pd\n",
    "import numpy as np\n",
    "\n",
    "import matplotlib.pyplot as plt\n",
    "from scipy import stats, integrate\n",
    "import seaborn as sns; sns.set()\n",
    "from sklearn.pipeline import Pipeline\n",
    "\n",
    "pd.options.display.float_format = '{:.2f}'.format"
   ]
  },
  {
   "cell_type": "code",
   "execution_count": 2,
   "metadata": {},
   "outputs": [],
   "source": [
    "ruta_train='C:/Users/Juan Diego Bernate V/Documents/Python/Practica/PUBG/train_V2.csv'\n",
    "train=pd.read_csv(ruta_train)"
   ]
  },
  {
   "cell_type": "code",
   "execution_count": 8,
   "metadata": {},
   "outputs": [],
   "source": [
    "#ruta_test='C:/Users/Juan Diego Bernate V/Downloads/Python/Practica/PUBG/test_V2.csv'\n",
    "#test=pd.read_csv(ruta_test)"
   ]
  },
  {
   "cell_type": "code",
   "execution_count": 11,
   "metadata": {},
   "outputs": [
    {
     "data": {
      "text/html": [
       "<div>\n",
       "<style scoped>\n",
       "    .dataframe tbody tr th:only-of-type {\n",
       "        vertical-align: middle;\n",
       "    }\n",
       "\n",
       "    .dataframe tbody tr th {\n",
       "        vertical-align: top;\n",
       "    }\n",
       "\n",
       "    .dataframe thead th {\n",
       "        text-align: right;\n",
       "    }\n",
       "</style>\n",
       "<table border=\"1\" class=\"dataframe\">\n",
       "  <thead>\n",
       "    <tr style=\"text-align: right;\">\n",
       "      <th></th>\n",
       "      <th>Id</th>\n",
       "      <th>groupId</th>\n",
       "      <th>matchId</th>\n",
       "      <th>assists</th>\n",
       "      <th>boosts</th>\n",
       "      <th>damageDealt</th>\n",
       "      <th>DBNOs</th>\n",
       "      <th>headshotKills</th>\n",
       "      <th>heals</th>\n",
       "      <th>killPlace</th>\n",
       "      <th>...</th>\n",
       "      <th>revives</th>\n",
       "      <th>rideDistance</th>\n",
       "      <th>roadKills</th>\n",
       "      <th>swimDistance</th>\n",
       "      <th>teamKills</th>\n",
       "      <th>vehicleDestroys</th>\n",
       "      <th>walkDistance</th>\n",
       "      <th>weaponsAcquired</th>\n",
       "      <th>winPoints</th>\n",
       "      <th>winPlacePerc</th>\n",
       "    </tr>\n",
       "  </thead>\n",
       "  <tbody>\n",
       "    <tr>\n",
       "      <th>0</th>\n",
       "      <td>7f96b2f878858a</td>\n",
       "      <td>4d4b580de459be</td>\n",
       "      <td>a10357fd1a4a91</td>\n",
       "      <td>0</td>\n",
       "      <td>0</td>\n",
       "      <td>0.00</td>\n",
       "      <td>0</td>\n",
       "      <td>0</td>\n",
       "      <td>0</td>\n",
       "      <td>60</td>\n",
       "      <td>...</td>\n",
       "      <td>0</td>\n",
       "      <td>0.0000</td>\n",
       "      <td>0</td>\n",
       "      <td>0.00</td>\n",
       "      <td>0</td>\n",
       "      <td>0</td>\n",
       "      <td>244.80</td>\n",
       "      <td>1</td>\n",
       "      <td>1466</td>\n",
       "      <td>0.4444</td>\n",
       "    </tr>\n",
       "    <tr>\n",
       "      <th>1</th>\n",
       "      <td>eef90569b9d03c</td>\n",
       "      <td>684d5656442f9e</td>\n",
       "      <td>aeb375fc57110c</td>\n",
       "      <td>0</td>\n",
       "      <td>0</td>\n",
       "      <td>91.47</td>\n",
       "      <td>0</td>\n",
       "      <td>0</td>\n",
       "      <td>0</td>\n",
       "      <td>57</td>\n",
       "      <td>...</td>\n",
       "      <td>0</td>\n",
       "      <td>0.0045</td>\n",
       "      <td>0</td>\n",
       "      <td>11.04</td>\n",
       "      <td>0</td>\n",
       "      <td>0</td>\n",
       "      <td>1434.00</td>\n",
       "      <td>5</td>\n",
       "      <td>0</td>\n",
       "      <td>0.6400</td>\n",
       "    </tr>\n",
       "    <tr>\n",
       "      <th>2</th>\n",
       "      <td>1eaf90ac73de72</td>\n",
       "      <td>6a4a42c3245a74</td>\n",
       "      <td>110163d8bb94ae</td>\n",
       "      <td>1</td>\n",
       "      <td>0</td>\n",
       "      <td>68.00</td>\n",
       "      <td>0</td>\n",
       "      <td>0</td>\n",
       "      <td>0</td>\n",
       "      <td>47</td>\n",
       "      <td>...</td>\n",
       "      <td>0</td>\n",
       "      <td>0.0000</td>\n",
       "      <td>0</td>\n",
       "      <td>0.00</td>\n",
       "      <td>0</td>\n",
       "      <td>0</td>\n",
       "      <td>161.80</td>\n",
       "      <td>2</td>\n",
       "      <td>0</td>\n",
       "      <td>0.7755</td>\n",
       "    </tr>\n",
       "    <tr>\n",
       "      <th>3</th>\n",
       "      <td>4616d365dd2853</td>\n",
       "      <td>a930a9c79cd721</td>\n",
       "      <td>f1f1f4ef412d7e</td>\n",
       "      <td>0</td>\n",
       "      <td>0</td>\n",
       "      <td>32.90</td>\n",
       "      <td>0</td>\n",
       "      <td>0</td>\n",
       "      <td>0</td>\n",
       "      <td>75</td>\n",
       "      <td>...</td>\n",
       "      <td>0</td>\n",
       "      <td>0.0000</td>\n",
       "      <td>0</td>\n",
       "      <td>0.00</td>\n",
       "      <td>0</td>\n",
       "      <td>0</td>\n",
       "      <td>202.70</td>\n",
       "      <td>3</td>\n",
       "      <td>0</td>\n",
       "      <td>0.1667</td>\n",
       "    </tr>\n",
       "    <tr>\n",
       "      <th>4</th>\n",
       "      <td>315c96c26c9aac</td>\n",
       "      <td>de04010b3458dd</td>\n",
       "      <td>6dc8ff871e21e6</td>\n",
       "      <td>0</td>\n",
       "      <td>0</td>\n",
       "      <td>100.00</td>\n",
       "      <td>0</td>\n",
       "      <td>0</td>\n",
       "      <td>0</td>\n",
       "      <td>45</td>\n",
       "      <td>...</td>\n",
       "      <td>0</td>\n",
       "      <td>0.0000</td>\n",
       "      <td>0</td>\n",
       "      <td>0.00</td>\n",
       "      <td>0</td>\n",
       "      <td>0</td>\n",
       "      <td>49.75</td>\n",
       "      <td>2</td>\n",
       "      <td>0</td>\n",
       "      <td>0.1875</td>\n",
       "    </tr>\n",
       "  </tbody>\n",
       "</table>\n",
       "<p>5 rows × 29 columns</p>\n",
       "</div>"
      ],
      "text/plain": [
       "               Id         groupId         matchId  assists  boosts  \\\n",
       "0  7f96b2f878858a  4d4b580de459be  a10357fd1a4a91        0       0   \n",
       "1  eef90569b9d03c  684d5656442f9e  aeb375fc57110c        0       0   \n",
       "2  1eaf90ac73de72  6a4a42c3245a74  110163d8bb94ae        1       0   \n",
       "3  4616d365dd2853  a930a9c79cd721  f1f1f4ef412d7e        0       0   \n",
       "4  315c96c26c9aac  de04010b3458dd  6dc8ff871e21e6        0       0   \n",
       "\n",
       "   damageDealt  DBNOs  headshotKills  heals  killPlace      ...       revives  \\\n",
       "0         0.00      0              0      0         60      ...             0   \n",
       "1        91.47      0              0      0         57      ...             0   \n",
       "2        68.00      0              0      0         47      ...             0   \n",
       "3        32.90      0              0      0         75      ...             0   \n",
       "4       100.00      0              0      0         45      ...             0   \n",
       "\n",
       "   rideDistance  roadKills  swimDistance  teamKills vehicleDestroys  \\\n",
       "0        0.0000          0          0.00          0               0   \n",
       "1        0.0045          0         11.04          0               0   \n",
       "2        0.0000          0          0.00          0               0   \n",
       "3        0.0000          0          0.00          0               0   \n",
       "4        0.0000          0          0.00          0               0   \n",
       "\n",
       "   walkDistance  weaponsAcquired  winPoints  winPlacePerc  \n",
       "0        244.80                1       1466        0.4444  \n",
       "1       1434.00                5          0        0.6400  \n",
       "2        161.80                2          0        0.7755  \n",
       "3        202.70                3          0        0.1667  \n",
       "4         49.75                2          0        0.1875  \n",
       "\n",
       "[5 rows x 29 columns]"
      ]
     },
     "execution_count": 11,
     "metadata": {},
     "output_type": "execute_result"
    }
   ],
   "source": [
    "train.head()"
   ]
  },
  {
   "cell_type": "code",
   "execution_count": 32,
   "metadata": {},
   "outputs": [
    {
     "name": "stdout",
     "output_type": "stream",
     "text": [
      "<class 'pandas.core.frame.DataFrame'>\n",
      "Int64Index: 4446965 entries, 0 to 4446965\n",
      "Data columns (total 39 columns):\n",
      "Id                         object\n",
      "groupId                    object\n",
      "matchId                    object\n",
      "assists                    int64\n",
      "boosts                     int64\n",
      "damageDealt                float64\n",
      "DBNOs                      int64\n",
      "headshotKills              int64\n",
      "heals                      int64\n",
      "killPlace                  int64\n",
      "killPoints                 int64\n",
      "kills                      int64\n",
      "killStreaks                int64\n",
      "longestKill                float64\n",
      "matchDuration              int64\n",
      "matchType                  object\n",
      "maxPlace                   int64\n",
      "numGroups                  int64\n",
      "rankPoints                 int64\n",
      "revives                    int64\n",
      "rideDistance               float64\n",
      "roadKills                  int64\n",
      "swimDistance               float64\n",
      "teamKills                  int64\n",
      "vehicleDestroys            int64\n",
      "walkDistance               float64\n",
      "weaponsAcquired            int64\n",
      "winPoints                  int64\n",
      "winPlacePerc               float64\n",
      "Cant_jugadores             int64\n",
      "Cant_jugadoresEquipo       int64\n",
      "Kmtotal                    float64\n",
      "Kill/CantJugad             float64\n",
      "Damage/CantJugad           float64\n",
      "DBNOs/CantJugad            float64\n",
      "headshotKills/CantJugad    float64\n",
      "Kills/Kmtotal              float64\n",
      "headshotKills/Kill         float64\n",
      "Boosteos                   int64\n",
      "dtypes: float64(13), int64(22), object(4)\n",
      "memory usage: 1.3+ GB\n"
     ]
    }
   ],
   "source": [
    "train.info()"
   ]
  },
  {
   "cell_type": "code",
   "execution_count": 4,
   "metadata": {},
   "outputs": [
    {
     "data": {
      "text/plain": [
       "(4446966, 29)"
      ]
     },
     "execution_count": 4,
     "metadata": {},
     "output_type": "execute_result"
    }
   ],
   "source": [
    "train.shape"
   ]
  },
  {
   "cell_type": "code",
   "execution_count": 34,
   "metadata": {},
   "outputs": [
    {
     "data": {
      "text/plain": [
       "Id                 0\n",
       "groupId            0\n",
       "matchId            0\n",
       "assists            0\n",
       "boosts             0\n",
       "damageDealt        0\n",
       "DBNOs              0\n",
       "headshotKills      0\n",
       "heals              0\n",
       "killPlace          0\n",
       "killPoints         0\n",
       "kills              0\n",
       "killStreaks        0\n",
       "longestKill        0\n",
       "matchDuration      0\n",
       "matchType          0\n",
       "maxPlace           0\n",
       "numGroups          0\n",
       "rankPoints         0\n",
       "revives            0\n",
       "rideDistance       0\n",
       "roadKills          0\n",
       "swimDistance       0\n",
       "teamKills          0\n",
       "vehicleDestroys    0\n",
       "walkDistance       0\n",
       "weaponsAcquired    0\n",
       "winPoints          0\n",
       "winPlacePerc       0\n",
       "dtype: int64"
      ]
     },
     "execution_count": 34,
     "metadata": {},
     "output_type": "execute_result"
    }
   ],
   "source": [
    "train.isnull().sum()"
   ]
  },
  {
   "cell_type": "code",
   "execution_count": 3,
   "metadata": {},
   "outputs": [
    {
     "data": {
      "text/html": [
       "<div>\n",
       "<style scoped>\n",
       "    .dataframe tbody tr th:only-of-type {\n",
       "        vertical-align: middle;\n",
       "    }\n",
       "\n",
       "    .dataframe tbody tr th {\n",
       "        vertical-align: top;\n",
       "    }\n",
       "\n",
       "    .dataframe thead th {\n",
       "        text-align: right;\n",
       "    }\n",
       "</style>\n",
       "<table border=\"1\" class=\"dataframe\">\n",
       "  <thead>\n",
       "    <tr style=\"text-align: right;\">\n",
       "      <th></th>\n",
       "      <th>Id</th>\n",
       "      <th>groupId</th>\n",
       "      <th>matchId</th>\n",
       "      <th>assists</th>\n",
       "      <th>boosts</th>\n",
       "      <th>damageDealt</th>\n",
       "      <th>DBNOs</th>\n",
       "      <th>headshotKills</th>\n",
       "      <th>heals</th>\n",
       "      <th>killPlace</th>\n",
       "      <th>...</th>\n",
       "      <th>revives</th>\n",
       "      <th>rideDistance</th>\n",
       "      <th>roadKills</th>\n",
       "      <th>swimDistance</th>\n",
       "      <th>teamKills</th>\n",
       "      <th>vehicleDestroys</th>\n",
       "      <th>walkDistance</th>\n",
       "      <th>weaponsAcquired</th>\n",
       "      <th>winPoints</th>\n",
       "      <th>winPlacePerc</th>\n",
       "    </tr>\n",
       "  </thead>\n",
       "  <tbody>\n",
       "    <tr>\n",
       "      <th>2744604</th>\n",
       "      <td>f70c74418bb064</td>\n",
       "      <td>12dfbede33f92b</td>\n",
       "      <td>224a123c53e008</td>\n",
       "      <td>0</td>\n",
       "      <td>0</td>\n",
       "      <td>0.0</td>\n",
       "      <td>0</td>\n",
       "      <td>0</td>\n",
       "      <td>0</td>\n",
       "      <td>1</td>\n",
       "      <td>...</td>\n",
       "      <td>0</td>\n",
       "      <td>0.0</td>\n",
       "      <td>0</td>\n",
       "      <td>0.0</td>\n",
       "      <td>0</td>\n",
       "      <td>0</td>\n",
       "      <td>0.0</td>\n",
       "      <td>0</td>\n",
       "      <td>0</td>\n",
       "      <td>NaN</td>\n",
       "    </tr>\n",
       "  </tbody>\n",
       "</table>\n",
       "<p>1 rows × 29 columns</p>\n",
       "</div>"
      ],
      "text/plain": [
       "                     Id         groupId         matchId  assists  boosts  \\\n",
       "2744604  f70c74418bb064  12dfbede33f92b  224a123c53e008        0       0   \n",
       "\n",
       "         damageDealt  DBNOs  headshotKills  heals  killPlace      ...       \\\n",
       "2744604          0.0      0              0      0          1      ...        \n",
       "\n",
       "         revives  rideDistance  roadKills  swimDistance  teamKills  \\\n",
       "2744604        0           0.0          0           0.0          0   \n",
       "\n",
       "        vehicleDestroys  walkDistance  weaponsAcquired  winPoints  \\\n",
       "2744604               0           0.0                0          0   \n",
       "\n",
       "         winPlacePerc  \n",
       "2744604           NaN  \n",
       "\n",
       "[1 rows x 29 columns]"
      ]
     },
     "execution_count": 3,
     "metadata": {},
     "output_type": "execute_result"
    }
   ],
   "source": [
    "train[train['winPlacePerc'].isnull()]"
   ]
  },
  {
   "cell_type": "code",
   "execution_count": 3,
   "metadata": {},
   "outputs": [],
   "source": [
    "train.drop(2744604, inplace=True)"
   ]
  },
  {
   "cell_type": "code",
   "execution_count": 11,
   "metadata": {},
   "outputs": [
    {
     "data": {
      "text/html": [
       "<div>\n",
       "<style scoped>\n",
       "    .dataframe tbody tr th:only-of-type {\n",
       "        vertical-align: middle;\n",
       "    }\n",
       "\n",
       "    .dataframe tbody tr th {\n",
       "        vertical-align: top;\n",
       "    }\n",
       "\n",
       "    .dataframe thead th {\n",
       "        text-align: right;\n",
       "    }\n",
       "</style>\n",
       "<table border=\"1\" class=\"dataframe\">\n",
       "  <thead>\n",
       "    <tr style=\"text-align: right;\">\n",
       "      <th></th>\n",
       "      <th>assists</th>\n",
       "      <th>boosts</th>\n",
       "      <th>damageDealt</th>\n",
       "      <th>DBNOs</th>\n",
       "      <th>headshotKills</th>\n",
       "      <th>heals</th>\n",
       "      <th>killPlace</th>\n",
       "      <th>killPoints</th>\n",
       "      <th>kills</th>\n",
       "      <th>killStreaks</th>\n",
       "      <th>...</th>\n",
       "      <th>winPlacePerc</th>\n",
       "      <th>Cant_jugadores</th>\n",
       "      <th>Kmtotal</th>\n",
       "      <th>Kill/CantJugad</th>\n",
       "      <th>Damage/CantJugad</th>\n",
       "      <th>DBNOs/CantJugad</th>\n",
       "      <th>headshotKills/CantJugad</th>\n",
       "      <th>Kills/Kmtotal</th>\n",
       "      <th>headshotKills/Kill</th>\n",
       "      <th>Boosteos</th>\n",
       "    </tr>\n",
       "  </thead>\n",
       "  <tbody>\n",
       "    <tr>\n",
       "      <th>count</th>\n",
       "      <td>4.446932e+06</td>\n",
       "      <td>4.446932e+06</td>\n",
       "      <td>4.446932e+06</td>\n",
       "      <td>4.446932e+06</td>\n",
       "      <td>4.446932e+06</td>\n",
       "      <td>4.446932e+06</td>\n",
       "      <td>4.446932e+06</td>\n",
       "      <td>4.446932e+06</td>\n",
       "      <td>4.446932e+06</td>\n",
       "      <td>4.446932e+06</td>\n",
       "      <td>...</td>\n",
       "      <td>4.446932e+06</td>\n",
       "      <td>4.446932e+06</td>\n",
       "      <td>4.446932e+06</td>\n",
       "      <td>4.446932e+06</td>\n",
       "      <td>4.446932e+06</td>\n",
       "      <td>4.446932e+06</td>\n",
       "      <td>4.446932e+06</td>\n",
       "      <td>4.351098e+06</td>\n",
       "      <td>1.917211e+06</td>\n",
       "      <td>4.446932e+06</td>\n",
       "    </tr>\n",
       "    <tr>\n",
       "      <th>mean</th>\n",
       "      <td>2.337546e-01</td>\n",
       "      <td>1.106912e+00</td>\n",
       "      <td>1.306830e+02</td>\n",
       "      <td>6.578461e-01</td>\n",
       "      <td>2.266877e-01</td>\n",
       "      <td>1.370119e+00</td>\n",
       "      <td>4.759970e+01</td>\n",
       "      <td>5.050074e+02</td>\n",
       "      <td>9.244238e-01</td>\n",
       "      <td>5.439188e-01</td>\n",
       "      <td>...</td>\n",
       "      <td>4.728182e-01</td>\n",
       "      <td>9.419530e+01</td>\n",
       "      <td>1.764850e+03</td>\n",
       "      <td>1.023483e-02</td>\n",
       "      <td>1.443057e+00</td>\n",
       "      <td>7.101327e-03</td>\n",
       "      <td>2.513307e-03</td>\n",
       "      <td>inf</td>\n",
       "      <td>2.391802e-01</td>\n",
       "      <td>2.477031e+00</td>\n",
       "    </tr>\n",
       "    <tr>\n",
       "      <th>std</th>\n",
       "      <td>5.879758e-01</td>\n",
       "      <td>1.715792e+00</td>\n",
       "      <td>1.703037e+02</td>\n",
       "      <td>1.145154e+00</td>\n",
       "      <td>5.987961e-01</td>\n",
       "      <td>2.679940e+00</td>\n",
       "      <td>2.746275e+01</td>\n",
       "      <td>6.275058e+02</td>\n",
       "      <td>1.552695e+00</td>\n",
       "      <td>7.108166e-01</td>\n",
       "      <td>...</td>\n",
       "      <td>3.074035e-01</td>\n",
       "      <td>6.683867e+00</td>\n",
       "      <td>2.183122e+03</td>\n",
       "      <td>2.650188e-02</td>\n",
       "      <td>2.827866e+00</td>\n",
       "      <td>1.473704e-02</td>\n",
       "      <td>8.800813e-03</td>\n",
       "      <td>NaN</td>\n",
       "      <td>3.532466e-01</td>\n",
       "      <td>3.879963e+00</td>\n",
       "    </tr>\n",
       "    <tr>\n",
       "      <th>min</th>\n",
       "      <td>0.000000e+00</td>\n",
       "      <td>0.000000e+00</td>\n",
       "      <td>0.000000e+00</td>\n",
       "      <td>0.000000e+00</td>\n",
       "      <td>0.000000e+00</td>\n",
       "      <td>0.000000e+00</td>\n",
       "      <td>1.000000e+00</td>\n",
       "      <td>0.000000e+00</td>\n",
       "      <td>0.000000e+00</td>\n",
       "      <td>0.000000e+00</td>\n",
       "      <td>...</td>\n",
       "      <td>0.000000e+00</td>\n",
       "      <td>2.000000e+00</td>\n",
       "      <td>0.000000e+00</td>\n",
       "      <td>0.000000e+00</td>\n",
       "      <td>0.000000e+00</td>\n",
       "      <td>0.000000e+00</td>\n",
       "      <td>0.000000e+00</td>\n",
       "      <td>0.000000e+00</td>\n",
       "      <td>0.000000e+00</td>\n",
       "      <td>0.000000e+00</td>\n",
       "    </tr>\n",
       "    <tr>\n",
       "      <th>25%</th>\n",
       "      <td>0.000000e+00</td>\n",
       "      <td>0.000000e+00</td>\n",
       "      <td>0.000000e+00</td>\n",
       "      <td>0.000000e+00</td>\n",
       "      <td>0.000000e+00</td>\n",
       "      <td>0.000000e+00</td>\n",
       "      <td>2.400000e+01</td>\n",
       "      <td>0.000000e+00</td>\n",
       "      <td>0.000000e+00</td>\n",
       "      <td>0.000000e+00</td>\n",
       "      <td>...</td>\n",
       "      <td>2.000000e-01</td>\n",
       "      <td>9.300000e+01</td>\n",
       "      <td>1.581000e+02</td>\n",
       "      <td>0.000000e+00</td>\n",
       "      <td>0.000000e+00</td>\n",
       "      <td>0.000000e+00</td>\n",
       "      <td>0.000000e+00</td>\n",
       "      <td>0.000000e+00</td>\n",
       "      <td>0.000000e+00</td>\n",
       "      <td>0.000000e+00</td>\n",
       "    </tr>\n",
       "    <tr>\n",
       "      <th>50%</th>\n",
       "      <td>0.000000e+00</td>\n",
       "      <td>0.000000e+00</td>\n",
       "      <td>8.424000e+01</td>\n",
       "      <td>0.000000e+00</td>\n",
       "      <td>0.000000e+00</td>\n",
       "      <td>0.000000e+00</td>\n",
       "      <td>4.700000e+01</td>\n",
       "      <td>0.000000e+00</td>\n",
       "      <td>0.000000e+00</td>\n",
       "      <td>0.000000e+00</td>\n",
       "      <td>...</td>\n",
       "      <td>4.583000e-01</td>\n",
       "      <td>9.500000e+01</td>\n",
       "      <td>7.882000e+02</td>\n",
       "      <td>0.000000e+00</td>\n",
       "      <td>8.946392e-01</td>\n",
       "      <td>0.000000e+00</td>\n",
       "      <td>0.000000e+00</td>\n",
       "      <td>0.000000e+00</td>\n",
       "      <td>0.000000e+00</td>\n",
       "      <td>1.000000e+00</td>\n",
       "    </tr>\n",
       "    <tr>\n",
       "      <th>75%</th>\n",
       "      <td>0.000000e+00</td>\n",
       "      <td>2.000000e+00</td>\n",
       "      <td>1.860000e+02</td>\n",
       "      <td>1.000000e+00</td>\n",
       "      <td>0.000000e+00</td>\n",
       "      <td>2.000000e+00</td>\n",
       "      <td>7.100000e+01</td>\n",
       "      <td>1.172000e+03</td>\n",
       "      <td>1.000000e+00</td>\n",
       "      <td>1.000000e+00</td>\n",
       "      <td>...</td>\n",
       "      <td>7.407000e-01</td>\n",
       "      <td>9.700000e+01</td>\n",
       "      <td>2.728500e+03</td>\n",
       "      <td>1.098901e-02</td>\n",
       "      <td>1.980000e+00</td>\n",
       "      <td>1.052632e-02</td>\n",
       "      <td>0.000000e+00</td>\n",
       "      <td>9.732360e-04</td>\n",
       "      <td>5.000000e-01</td>\n",
       "      <td>4.000000e+00</td>\n",
       "    </tr>\n",
       "    <tr>\n",
       "      <th>max</th>\n",
       "      <td>1.700000e+01</td>\n",
       "      <td>3.300000e+01</td>\n",
       "      <td>4.238000e+03</td>\n",
       "      <td>3.900000e+01</td>\n",
       "      <td>3.500000e+01</td>\n",
       "      <td>8.000000e+01</td>\n",
       "      <td>1.010000e+02</td>\n",
       "      <td>2.170000e+03</td>\n",
       "      <td>4.000000e+01</td>\n",
       "      <td>2.000000e+01</td>\n",
       "      <td>...</td>\n",
       "      <td>1.000000e+00</td>\n",
       "      <td>1.000000e+02</td>\n",
       "      <td>4.127010e+04</td>\n",
       "      <td>5.000000e+00</td>\n",
       "      <td>5.165000e+02</td>\n",
       "      <td>3.181818e+00</td>\n",
       "      <td>3.250000e+00</td>\n",
       "      <td>inf</td>\n",
       "      <td>1.000000e+00</td>\n",
       "      <td>8.100000e+01</td>\n",
       "    </tr>\n",
       "  </tbody>\n",
       "</table>\n",
       "<p>8 rows × 34 columns</p>\n",
       "</div>"
      ],
      "text/plain": [
       "            assists        boosts   damageDealt         DBNOs  headshotKills  \\\n",
       "count  4.446932e+06  4.446932e+06  4.446932e+06  4.446932e+06   4.446932e+06   \n",
       "mean   2.337546e-01  1.106912e+00  1.306830e+02  6.578461e-01   2.266877e-01   \n",
       "std    5.879758e-01  1.715792e+00  1.703037e+02  1.145154e+00   5.987961e-01   \n",
       "min    0.000000e+00  0.000000e+00  0.000000e+00  0.000000e+00   0.000000e+00   \n",
       "25%    0.000000e+00  0.000000e+00  0.000000e+00  0.000000e+00   0.000000e+00   \n",
       "50%    0.000000e+00  0.000000e+00  8.424000e+01  0.000000e+00   0.000000e+00   \n",
       "75%    0.000000e+00  2.000000e+00  1.860000e+02  1.000000e+00   0.000000e+00   \n",
       "max    1.700000e+01  3.300000e+01  4.238000e+03  3.900000e+01   3.500000e+01   \n",
       "\n",
       "              heals     killPlace    killPoints         kills   killStreaks  \\\n",
       "count  4.446932e+06  4.446932e+06  4.446932e+06  4.446932e+06  4.446932e+06   \n",
       "mean   1.370119e+00  4.759970e+01  5.050074e+02  9.244238e-01  5.439188e-01   \n",
       "std    2.679940e+00  2.746275e+01  6.275058e+02  1.552695e+00  7.108166e-01   \n",
       "min    0.000000e+00  1.000000e+00  0.000000e+00  0.000000e+00  0.000000e+00   \n",
       "25%    0.000000e+00  2.400000e+01  0.000000e+00  0.000000e+00  0.000000e+00   \n",
       "50%    0.000000e+00  4.700000e+01  0.000000e+00  0.000000e+00  0.000000e+00   \n",
       "75%    2.000000e+00  7.100000e+01  1.172000e+03  1.000000e+00  1.000000e+00   \n",
       "max    8.000000e+01  1.010000e+02  2.170000e+03  4.000000e+01  2.000000e+01   \n",
       "\n",
       "           ...       winPlacePerc  Cant_jugadores       Kmtotal  \\\n",
       "count      ...       4.446932e+06    4.446932e+06  4.446932e+06   \n",
       "mean       ...       4.728182e-01    9.419530e+01  1.764850e+03   \n",
       "std        ...       3.074035e-01    6.683867e+00  2.183122e+03   \n",
       "min        ...       0.000000e+00    2.000000e+00  0.000000e+00   \n",
       "25%        ...       2.000000e-01    9.300000e+01  1.581000e+02   \n",
       "50%        ...       4.583000e-01    9.500000e+01  7.882000e+02   \n",
       "75%        ...       7.407000e-01    9.700000e+01  2.728500e+03   \n",
       "max        ...       1.000000e+00    1.000000e+02  4.127010e+04   \n",
       "\n",
       "       Kill/CantJugad  Damage/CantJugad  DBNOs/CantJugad  \\\n",
       "count    4.446932e+06      4.446932e+06     4.446932e+06   \n",
       "mean     1.023483e-02      1.443057e+00     7.101327e-03   \n",
       "std      2.650188e-02      2.827866e+00     1.473704e-02   \n",
       "min      0.000000e+00      0.000000e+00     0.000000e+00   \n",
       "25%      0.000000e+00      0.000000e+00     0.000000e+00   \n",
       "50%      0.000000e+00      8.946392e-01     0.000000e+00   \n",
       "75%      1.098901e-02      1.980000e+00     1.052632e-02   \n",
       "max      5.000000e+00      5.165000e+02     3.181818e+00   \n",
       "\n",
       "       headshotKills/CantJugad  Kills/Kmtotal  headshotKills/Kill  \\\n",
       "count             4.446932e+06   4.351098e+06        1.917211e+06   \n",
       "mean              2.513307e-03            inf        2.391802e-01   \n",
       "std               8.800813e-03            NaN        3.532466e-01   \n",
       "min               0.000000e+00   0.000000e+00        0.000000e+00   \n",
       "25%               0.000000e+00   0.000000e+00        0.000000e+00   \n",
       "50%               0.000000e+00   0.000000e+00        0.000000e+00   \n",
       "75%               0.000000e+00   9.732360e-04        5.000000e-01   \n",
       "max               3.250000e+00            inf        1.000000e+00   \n",
       "\n",
       "           Boosteos  \n",
       "count  4.446932e+06  \n",
       "mean   2.477031e+00  \n",
       "std    3.879963e+00  \n",
       "min    0.000000e+00  \n",
       "25%    0.000000e+00  \n",
       "50%    1.000000e+00  \n",
       "75%    4.000000e+00  \n",
       "max    8.100000e+01  \n",
       "\n",
       "[8 rows x 34 columns]"
      ]
     },
     "execution_count": 11,
     "metadata": {},
     "output_type": "execute_result"
    }
   ],
   "source": [
    "train.describe()\n",
    "#train.boxplot(column=['assists'])\n",
    "#CALCULAR:\n",
    "# Numero de jugadores de partida,numero de jugadores por equipo, km recorrido,\n",
    "#identificar cheaters(kills/km, super sniper), outliers en general\n",
    "#Normalizar en funcion de los jugadores por partida"
   ]
  },
  {
   "cell_type": "code",
   "execution_count": 4,
   "metadata": {},
   "outputs": [],
   "source": [
    "train['Cant_jugadores'] = train.groupby('matchId')['matchId'].transform('count')"
   ]
  },
  {
   "cell_type": "code",
   "execution_count": 10,
   "metadata": {},
   "outputs": [
    {
     "data": {
      "text/plain": [
       "['Id',\n",
       " 'groupId',\n",
       " 'matchId',\n",
       " 'assists',\n",
       " 'boosts',\n",
       " 'damageDealt',\n",
       " 'DBNOs',\n",
       " 'headshotKills',\n",
       " 'heals',\n",
       " 'killPlace',\n",
       " 'killPoints',\n",
       " 'kills',\n",
       " 'killStreaks',\n",
       " 'longestKill',\n",
       " 'matchDuration',\n",
       " 'matchType',\n",
       " 'maxPlace',\n",
       " 'numGroups',\n",
       " 'rankPoints',\n",
       " 'revives',\n",
       " 'rideDistance',\n",
       " 'roadKills',\n",
       " 'swimDistance',\n",
       " 'teamKills',\n",
       " 'vehicleDestroys',\n",
       " 'walkDistance',\n",
       " 'weaponsAcquired',\n",
       " 'winPoints',\n",
       " 'winPlacePerc',\n",
       " 'Cant_jugadores',\n",
       " 'Kmtotal',\n",
       " 'Kill/CantJugad',\n",
       " 'Damage/CantJugad',\n",
       " 'DBNOs/CantJugad',\n",
       " 'headshotKills/CantJugad',\n",
       " 'Kills/Kmtotal',\n",
       " 'headshotKills/Kill',\n",
       " 'Boosteos']"
      ]
     },
     "execution_count": 10,
     "metadata": {},
     "output_type": "execute_result"
    }
   ],
   "source": [
    "list(train)"
   ]
  },
  {
   "cell_type": "code",
   "execution_count": 5,
   "metadata": {},
   "outputs": [],
   "source": [
    "train['Kmtotal'] =train['rideDistance']+train['swimDistance']+train['walkDistance']\n",
    "train['Kill/CantJugad'] =train['kills']/train['Cant_jugadores']\n",
    "train['Damage/CantJugad'] =train['damageDealt']/train['Cant_jugadores']\n",
    "train['DBNOs/CantJugad'] =train['DBNOs']/train['Cant_jugadores']\n",
    "train['headshotKills/CantJugad'] =train['headshotKills']/train['Cant_jugadores']\n",
    "train['Kills/Kmtotal'] =train['kills']/train['Kmtotal']\n",
    "train['headshotKills/Kill'] =train['headshotKills']/train['kills']\n",
    "##Bosteos\n",
    "train['Boosteos'] =train['boosts']+train['heals']"
   ]
  },
  {
   "cell_type": "code",
   "execution_count": 49,
   "metadata": {},
   "outputs": [],
   "source": [
    "##Identificando outliers#\n",
    "Revisar outliers para cada uno las variables normalizadas."
   ]
  },
  {
   "cell_type": "code",
   "execution_count": 8,
   "metadata": {},
   "outputs": [
    {
     "data": {
      "image/png": "[encoded data removed]",
      "text/plain": [
       "<Figure size 432x288 with 1 Axes>"
      ]
     },
     "metadata": {
      "needs_background": "light"
     },
     "output_type": "display_data"
    },
    {
     "data": {
      "image/png": "[encoded data removed]",
      "text/plain": [
       "<Figure size 864x288 with 1 Axes>"
      ]
     },
     "metadata": {
      "needs_background": "light"
     },
     "output_type": "display_data"
    }
   ],
   "source": [
    "train.kills.describe()\n",
    "\n",
    "train.boxplot(column=['kills'])\n",
    "\n",
    "plt.figure(figsize=(12,4))\n",
    "sns.countplot(data=train, x=train['kills']).set_title('Kills')\n",
    "plt.show()\n"
   ]
  },
  {
   "cell_type": "code",
   "execution_count": 6,
   "metadata": {},
   "outputs": [],
   "source": [
    "#Eliminamos los outliers de Kills\n",
    "train=train[train['kills']<=40]\n"
   ]
  },
  {
   "cell_type": "code",
   "execution_count": 7,
   "metadata": {
    "scrolled": true
   },
   "outputs": [
    {
     "name": "stderr",
     "output_type": "stream",
     "text": [
      "C:\\Users\\Juan Diego Bernate V\\Anaconda3\\lib\\site-packages\\scipy\\stats\\stats.py:1713: FutureWarning: Using a non-tuple sequence for multidimensional indexing is deprecated; use `arr[tuple(seq)]` instead of `arr[seq]`. In the future this will be interpreted as an array index, `arr[np.array(seq)]`, which will result either in an error or a different result.\n",
      "  return np.add.reduce(sorted[indexer] * weights, axis=axis) / sumval\n"
     ]
    },
    {
     "data": {
      "image/png": "[encoded data removed]",
      "text/plain": [
       "<Figure size 864x288 with 1 Axes>"
      ]
     },
     "metadata": {
      "needs_background": "light"
     },
     "output_type": "display_data"
    }
   ],
   "source": [
    "#Outliers HeadShot Kills\n",
    "train['headshotKills/Kill'].describe()\n",
    "train['headshotKills/Kill'].isnull()\n",
    "train['headshotKills/Kill']=train['headshotKills/Kill'].fillna(0)\n",
    "\n",
    "plt.figure(figsize=(12,4))\n",
    "sns.distplot(train['headshotKills/Kill'], bins=10)\n",
    "plt.show()\n",
    "\n",
    "#Los voy a dejar."
   ]
  },
  {
   "cell_type": "code",
   "execution_count": 8,
   "metadata": {},
   "outputs": [
    {
     "data": {
      "image/png": "[encoded data removed]",
      "text/plain": [
       "<Figure size 432x288 with 1 Axes>"
      ]
     },
     "metadata": {
      "needs_background": "light"
     },
     "output_type": "display_data"
    }
   ],
   "source": [
    "# Outliers Kmtotal\n",
    "train.boxplot(column=['Kmtotal'])\n",
    "\n",
    "train.Kmtotal.describe()\n",
    "\n",
    "#Arbitrariamente voy a quitar los mayores a 20000 mt\n",
    "\n",
    "train=train[train['Kmtotal']<=20000]\n"
   ]
  },
  {
   "cell_type": "code",
   "execution_count": 9,
   "metadata": {},
   "outputs": [
    {
     "name": "stderr",
     "output_type": "stream",
     "text": [
      "C:\\Users\\Juan Diego Bernate V\\Anaconda3\\lib\\site-packages\\scipy\\stats\\stats.py:1713: FutureWarning: Using a non-tuple sequence for multidimensional indexing is deprecated; use `arr[tuple(seq)]` instead of `arr[seq]`. In the future this will be interpreted as an array index, `arr[np.array(seq)]`, which will result either in an error or a different result.\n",
      "  return np.add.reduce(sorted[indexer] * weights, axis=axis) / sumval\n"
     ]
    },
    {
     "data": {
      "image/png": "[encoded data removed]",
      "text/plain": [
       "<Figure size 432x288 with 1 Axes>"
      ]
     },
     "metadata": {
      "needs_background": "light"
     },
     "output_type": "display_data"
    },
    {
     "data": {
      "image/png": "[encoded data removed]",
      "text/plain": [
       "<Figure size 864x288 with 1 Axes>"
      ]
     },
     "metadata": {
      "needs_background": "light"
     },
     "output_type": "display_data"
    }
   ],
   "source": [
    "#Nadadores\n",
    "train['swimDistance'].describe()\n",
    "train.boxplot(column=['swimDistance'])\n",
    "\n",
    "plt.figure(figsize=(12,4))\n",
    "sns.distplot(train['swimDistance'], bins=10)\n",
    "plt.show()\n",
    "\n",
    "train=train[train['swimDistance']<1000]"
   ]
  },
  {
   "cell_type": "code",
   "execution_count": 10,
   "metadata": {},
   "outputs": [
    {
     "name": "stderr",
     "output_type": "stream",
     "text": [
      "C:\\Users\\Juan Diego Bernate V\\Anaconda3\\lib\\site-packages\\scipy\\stats\\stats.py:1713: FutureWarning: Using a non-tuple sequence for multidimensional indexing is deprecated; use `arr[tuple(seq)]` instead of `arr[seq]`. In the future this will be interpreted as an array index, `arr[np.array(seq)]`, which will result either in an error or a different result.\n",
      "  return np.add.reduce(sorted[indexer] * weights, axis=axis) / sumval\n"
     ]
    },
    {
     "data": {
      "image/png": "[encoded data removed]",
      "text/plain": [
       "<Figure size 432x288 with 1 Axes>"
      ]
     },
     "metadata": {
      "needs_background": "light"
     },
     "output_type": "display_data"
    },
    {
     "data": {
      "image/png": "[encoded data removed]",
      "text/plain": [
       "<Figure size 864x288 with 1 Axes>"
      ]
     },
     "metadata": {
      "needs_background": "light"
     },
     "output_type": "display_data"
    }
   ],
   "source": [
    "#Conductores\n",
    "\n",
    "train['rideDistance'].describe()\n",
    "train.boxplot(column=['rideDistance'])\n",
    "\n",
    "plt.figure(figsize=(12,4))\n",
    "sns.distplot(train['rideDistance'], bins=10)\n",
    "plt.show()\n",
    "\n",
    "train=train[train['rideDistance']<10000]"
   ]
  },
  {
   "cell_type": "code",
   "execution_count": 11,
   "metadata": {},
   "outputs": [
    {
     "data": {
      "image/png": "[encoded data removed]",
      "text/plain": [
       "<Figure size 432x288 with 1 Axes>"
      ]
     },
     "metadata": {
      "needs_background": "light"
     },
     "output_type": "display_data"
    }
   ],
   "source": [
    "#Outliers Damage\n",
    "\n",
    "#train['Damage/CantJugad'].isnull().sum()\n",
    "train['Damage/CantJugad'].describe()\n",
    "train.boxplot(column=['Damage/CantJugad'])\n",
    "\n",
    "#voy a sacar los que hicieron más de 50 dmg/jug\n",
    "train=train[train['Damage/CantJugad']<=50]"
   ]
  },
  {
   "cell_type": "code",
   "execution_count": 12,
   "metadata": {},
   "outputs": [
    {
     "name": "stderr",
     "output_type": "stream",
     "text": [
      "C:\\Users\\Juan Diego Bernate V\\Anaconda3\\lib\\site-packages\\scipy\\stats\\stats.py:1713: FutureWarning: Using a non-tuple sequence for multidimensional indexing is deprecated; use `arr[tuple(seq)]` instead of `arr[seq]`. In the future this will be interpreted as an array index, `arr[np.array(seq)]`, which will result either in an error or a different result.\n",
      "  return np.add.reduce(sorted[indexer] * weights, axis=axis) / sumval\n"
     ]
    },
    {
     "data": {
      "image/png": "[encoded data removed]",
      "text/plain": [
       "<Figure size 432x288 with 1 Axes>"
      ]
     },
     "metadata": {
      "needs_background": "light"
     },
     "output_type": "display_data"
    },
    {
     "data": {
      "image/png": "[encoded data removed]",
      "text/plain": [
       "<Figure size 864x288 with 1 Axes>"
      ]
     },
     "metadata": {
      "needs_background": "light"
     },
     "output_type": "display_data"
    },
    {
     "data": {
      "text/plain": [
       "count   4437072.00\n",
       "mean          0.65\n",
       "std           1.11\n",
       "min           0.00\n",
       "25%           0.00\n",
       "50%           0.00\n",
       "75%           1.00\n",
       "max          10.00\n",
       "Name: DBNOs, dtype: float64"
      ]
     },
     "execution_count": 12,
     "metadata": {},
     "output_type": "execute_result"
    }
   ],
   "source": [
    "#Outliers DBNOs  Number of enemy players knocked.\n",
    "#train['DBNOs'].describe()\n",
    "train.boxplot(column=['DBNOs'])\n",
    "\n",
    "plt.figure(figsize=(12,4))\n",
    "sns.distplot(train['DBNOs'], bins=10)\n",
    "plt.show()\n",
    "\n",
    "#Podría quitar los mayores de 5, pero voy a quitar los mayores de 10\n",
    "\n",
    "train= train[train['DBNOs']<=10]\n",
    "\n",
    "train['DBNOs'].describe()"
   ]
  },
  {
   "cell_type": "code",
   "execution_count": 13,
   "metadata": {},
   "outputs": [
    {
     "name": "stderr",
     "output_type": "stream",
     "text": [
      "C:\\Users\\Juan Diego Bernate V\\Anaconda3\\lib\\site-packages\\scipy\\stats\\stats.py:1713: FutureWarning: Using a non-tuple sequence for multidimensional indexing is deprecated; use `arr[tuple(seq)]` instead of `arr[seq]`. In the future this will be interpreted as an array index, `arr[np.array(seq)]`, which will result either in an error or a different result.\n",
      "  return np.add.reduce(sorted[indexer] * weights, axis=axis) / sumval\n"
     ]
    },
    {
     "data": {
      "image/png": "[encoded data removed]",
      "text/plain": [
       "<Figure size 864x288 with 1 Axes>"
      ]
     },
     "metadata": {
      "needs_background": "light"
     },
     "output_type": "display_data"
    }
   ],
   "source": [
    "# Outliers Bosteos\n",
    "train['Boosteos'].describe()\n",
    "\n",
    "plt.figure(figsize=(12,4))\n",
    "sns.distplot(train['Boosteos'], bins=10)\n",
    "plt.show()\n",
    "#Dejo los menores a 30\n",
    "\n",
    "train=train[train['Boosteos']<=30]\n"
   ]
  },
  {
   "cell_type": "code",
   "execution_count": 14,
   "metadata": {},
   "outputs": [
    {
     "name": "stderr",
     "output_type": "stream",
     "text": [
      "C:\\Users\\Juan Diego Bernate V\\Anaconda3\\lib\\site-packages\\scipy\\stats\\stats.py:1713: FutureWarning: Using a non-tuple sequence for multidimensional indexing is deprecated; use `arr[tuple(seq)]` instead of `arr[seq]`. In the future this will be interpreted as an array index, `arr[np.array(seq)]`, which will result either in an error or a different result.\n",
      "  return np.add.reduce(sorted[indexer] * weights, axis=axis) / sumval\n"
     ]
    },
    {
     "data": {
      "image/png": "[encoded data removed]",
      "text/plain": [
       "<Figure size 432x288 with 1 Axes>"
      ]
     },
     "metadata": {
      "needs_background": "light"
     },
     "output_type": "display_data"
    },
    {
     "data": {
      "image/png": "[encoded data removed]",
      "text/plain": [
       "<Figure size 864x288 with 1 Axes>"
      ]
     },
     "metadata": {
      "needs_background": "light"
     },
     "output_type": "display_data"
    }
   ],
   "source": [
    "##Outliers de duracion\n",
    "\n",
    "train['matchDuration'].describe()\n",
    "\n",
    "train.boxplot(column=['matchDuration'])\n",
    "\n",
    "\n",
    "plt.figure(figsize=(12,4))\n",
    "sns.distplot(train['matchDuration'], bins=10)\n",
    "plt.show()\n",
    "\n",
    "train=train[(train['matchDuration']>800) & (train['matchDuration']<=2250)]\n"
   ]
  },
  {
   "cell_type": "code",
   "execution_count": 15,
   "metadata": {},
   "outputs": [
    {
     "name": "stderr",
     "output_type": "stream",
     "text": [
      "C:\\Users\\Juan Diego Bernate V\\Anaconda3\\lib\\site-packages\\scipy\\stats\\stats.py:1713: FutureWarning: Using a non-tuple sequence for multidimensional indexing is deprecated; use `arr[tuple(seq)]` instead of `arr[seq]`. In the future this will be interpreted as an array index, `arr[np.array(seq)]`, which will result either in an error or a different result.\n",
      "  return np.add.reduce(sorted[indexer] * weights, axis=axis) / sumval\n"
     ]
    },
    {
     "data": {
      "image/png": "[encoded data removed]",
      "text/plain": [
       "<Figure size 432x288 with 1 Axes>"
      ]
     },
     "metadata": {
      "needs_background": "light"
     },
     "output_type": "display_data"
    },
    {
     "data": {
      "image/png": "[encoded data removed]",
      "text/plain": [
       "<Figure size 864x288 with 1 Axes>"
      ]
     },
     "metadata": {
      "needs_background": "light"
     },
     "output_type": "display_data"
    }
   ],
   "source": [
    "#Outliers de armas conseguidas\n",
    "\n",
    "train['weaponsAcquired'].describe()\n",
    "\n",
    "train.boxplot(column=['weaponsAcquired'])\n",
    "\n",
    "\n",
    "plt.figure(figsize=(12,4))\n",
    "sns.distplot(train['weaponsAcquired'], bins=10)\n",
    "plt.show()\n",
    "\n",
    "train=train[train['weaponsAcquired']<=30]"
   ]
  },
  {
   "cell_type": "code",
   "execution_count": 16,
   "metadata": {},
   "outputs": [
    {
     "data": {
      "text/plain": [
       "array([False])"
      ]
     },
     "execution_count": 16,
     "metadata": {},
     "output_type": "execute_result"
    }
   ],
   "source": [
    "#Algunos Casos Especiales\n",
    "\n",
    "\n",
    "#Eliminamos casos atipicos de kills sin movimiento\n",
    "train['KillsSinMoverse']=((train['kills'] > 0) & (train['Kmtotal'] == 0))\n",
    "train = train[train.KillsSinMoverse != True]\n",
    "train.KillsSinMoverse.unique()\n"
   ]
  },
  {
   "cell_type": "code",
   "execution_count": 17,
   "metadata": {},
   "outputs": [
    {
     "name": "stderr",
     "output_type": "stream",
     "text": [
      "C:\\Users\\Juan Diego Bernate V\\Anaconda3\\lib\\site-packages\\scipy\\stats\\stats.py:1713: FutureWarning: Using a non-tuple sequence for multidimensional indexing is deprecated; use `arr[tuple(seq)]` instead of `arr[seq]`. In the future this will be interpreted as an array index, `arr[np.array(seq)]`, which will result either in an error or a different result.\n",
      "  return np.add.reduce(sorted[indexer] * weights, axis=axis) / sumval\n"
     ]
    },
    {
     "data": {
      "image/png": "[encoded data removed]",
      "text/plain": [
       "<Figure size 864x288 with 1 Axes>"
      ]
     },
     "metadata": {
      "needs_background": "light"
     },
     "output_type": "display_data"
    }
   ],
   "source": [
    "#Sniper ratas\n",
    "#train.boxplot(column=['longestKill'])\n",
    "train['longestKill'].describe()\n",
    "plt.figure(figsize=(12,4))\n",
    "sns.distplot(train['longestKill'], bins=10)\n",
    "plt.show()\n",
    "train = train[train.longestKill <= 300]"
   ]
  },
  {
   "cell_type": "code",
   "execution_count": 80,
   "metadata": {},
   "outputs": [
    {
     "data": {
      "text/plain": [
       "['Id',\n",
       " 'groupId',\n",
       " 'matchId',\n",
       " 'assists',\n",
       " 'boosts',\n",
       " 'damageDealt',\n",
       " 'DBNOs',\n",
       " 'headshotKills',\n",
       " 'heals',\n",
       " 'killPlace',\n",
       " 'killPoints',\n",
       " 'kills',\n",
       " 'killStreaks',\n",
       " 'longestKill',\n",
       " 'matchDuration',\n",
       " 'matchType',\n",
       " 'maxPlace',\n",
       " 'numGroups',\n",
       " 'rankPoints',\n",
       " 'revives',\n",
       " 'rideDistance',\n",
       " 'roadKills',\n",
       " 'swimDistance',\n",
       " 'teamKills',\n",
       " 'vehicleDestroys',\n",
       " 'walkDistance',\n",
       " 'weaponsAcquired',\n",
       " 'winPoints',\n",
       " 'winPlacePerc',\n",
       " 'Cant_jugadores',\n",
       " 'Kmtotal',\n",
       " 'Kill/CantJugad',\n",
       " 'Damage/CantJugad',\n",
       " 'DBNOs/CantJugad',\n",
       " 'headshotKills/CantJugad',\n",
       " 'Kills/Kmtotal',\n",
       " 'headshotKills/Kill',\n",
       " 'Boosteos',\n",
       " 'KillsSinMoverse']"
      ]
     },
     "execution_count": 80,
     "metadata": {},
     "output_type": "execute_result"
    }
   ],
   "source": [
    "list(train)"
   ]
  },
  {
   "cell_type": "code",
   "execution_count": 18,
   "metadata": {},
   "outputs": [],
   "source": [
    "train = pd.get_dummies(train, columns=['matchType'])"
   ]
  },
  {
   "cell_type": "code",
   "execution_count": 99,
   "metadata": {},
   "outputs": [
    {
     "data": {
      "text/plain": [
       "(4410630, 54)"
      ]
     },
     "execution_count": 99,
     "metadata": {},
     "output_type": "execute_result"
    }
   ],
   "source": [
    "train.shape"
   ]
  },
  {
   "cell_type": "code",
   "execution_count": 21,
   "metadata": {},
   "outputs": [
    {
     "name": "stdout",
     "output_type": "stream",
     "text": [
      "<class 'pandas.core.frame.DataFrame'>\n",
      "Int64Index: 4411320 entries, 0 to 4446965\n",
      "Data columns (total 54 columns):\n",
      "Id                            object\n",
      "assists                       int64\n",
      "boosts                        int64\n",
      "damageDealt                   float64\n",
      "DBNOs                         int64\n",
      "headshotKills                 int64\n",
      "heals                         int64\n",
      "killPlace                     int64\n",
      "killPoints                    int64\n",
      "kills                         int64\n",
      "killStreaks                   int64\n",
      "longestKill                   float64\n",
      "matchDuration                 int64\n",
      "maxPlace                      int64\n",
      "numGroups                     int64\n",
      "rankPoints                    int64\n",
      "revives                       int64\n",
      "rideDistance                  float64\n",
      "roadKills                     int64\n",
      "swimDistance                  float64\n",
      "teamKills                     int64\n",
      "vehicleDestroys               int64\n",
      "walkDistance                  float64\n",
      "weaponsAcquired               int64\n",
      "winPoints                     int64\n",
      "winPlacePerc                  float64\n",
      "Cant_jugadores                int64\n",
      "Kmtotal                       float64\n",
      "Kill/CantJugad                float64\n",
      "Damage/CantJugad              float64\n",
      "DBNOs/CantJugad               float64\n",
      "headshotKills/CantJugad       float64\n",
      "Kills/Kmtotal                 float64\n",
      "headshotKills/Kill            float64\n",
      "Boosteos                      int64\n",
      "KillsSinMoverse               bool\n",
      "matchType_crashfpp            uint8\n",
      "matchType_crashtpp            uint8\n",
      "matchType_duo                 uint8\n",
      "matchType_duo-fpp             uint8\n",
      "matchType_flarefpp            uint8\n",
      "matchType_flaretpp            uint8\n",
      "matchType_normal-duo          uint8\n",
      "matchType_normal-duo-fpp      uint8\n",
      "matchType_normal-solo         uint8\n",
      "matchType_normal-solo-fpp     uint8\n",
      "matchType_normal-squad        uint8\n",
      "matchType_normal-squad-fpp    uint8\n",
      "matchType_solo                uint8\n",
      "matchType_solo-fpp            uint8\n",
      "matchType_squad               uint8\n",
      "matchType_squad-fpp           uint8\n",
      "groupId_cat                   int32\n",
      "matchId_cat                   int32\n",
      "dtypes: bool(1), float64(13), int32(2), int64(21), object(1), uint8(16)\n",
      "memory usage: 1.3+ GB\n"
     ]
    }
   ],
   "source": [
    "train.info()"
   ]
  },
  {
   "cell_type": "code",
   "execution_count": 140,
   "metadata": {},
   "outputs": [
    {
     "data": {
      "text/plain": [
       "Index(['Id', 'groupId', 'matchId', 'assists', 'boosts', 'damageDealt', 'DBNOs',\n",
       "       'headshotKills', 'heals', 'killPlace', 'killPoints', 'kills',\n",
       "       'killStreaks', 'longestKill', 'matchDuration', 'maxPlace', 'numGroups',\n",
       "       'rankPoints', 'revives', 'rideDistance', 'roadKills', 'swimDistance',\n",
       "       'teamKills', 'vehicleDestroys', 'walkDistance', 'weaponsAcquired',\n",
       "       'winPoints', 'winPlacePerc', 'Cant_jugadores', 'Kmtotal',\n",
       "       'Kill/CantJugad', 'Damage/CantJugad', 'DBNOs/CantJugad',\n",
       "       'headshotKills/CantJugad', 'Kills/Kmtotal', 'headshotKills/Kill',\n",
       "       'Boosteos', 'KillsSinMoverse', 'matchType_crashfpp',\n",
       "       'matchType_crashtpp', 'matchType_duo', 'matchType_duo-fpp',\n",
       "       'matchType_flarefpp', 'matchType_flaretpp', 'matchType_normal-duo',\n",
       "       'matchType_normal-duo-fpp', 'matchType_normal-solo',\n",
       "       'matchType_normal-solo-fpp', 'matchType_normal-squad',\n",
       "       'matchType_normal-squad-fpp', 'matchType_solo', 'matchType_solo-fpp',\n",
       "       'matchType_squad', 'matchType_squad-fpp'],\n",
       "      dtype='object')"
      ]
     },
     "execution_count": 140,
     "metadata": {},
     "output_type": "execute_result"
    }
   ],
   "source": [
    "train.columns"
   ]
  },
  {
   "cell_type": "code",
   "execution_count": 19,
   "metadata": {},
   "outputs": [],
   "source": [
    "#Codigo copiado Neto.\n",
    "\n",
    "train['groupId'] = train['groupId'].astype('category')\n",
    "train['matchId'] = train['matchId'].astype('category')\n",
    "\n",
    "train['groupId_cat'] = train['groupId'].cat.codes\n",
    "train['matchId_cat'] = train['matchId'].cat.codes\n",
    "\n",
    "train.drop(columns=['groupId', 'matchId'], inplace=True)\n",
    "\n",
    "train[['groupId_cat', 'matchId_cat']].head()\n",
    "\n",
    "train.drop(columns=['Id'], inplace=True)"
   ]
  },
  {
   "cell_type": "code",
   "execution_count": 20,
   "metadata": {},
   "outputs": [],
   "source": [
    "train.drop(columns=['Kills/Kmtotal'], inplace=True)\n",
    "train.drop(columns=['KillsSinMoverse'], inplace=True)"
   ]
  },
  {
   "cell_type": "code",
   "execution_count": 29,
   "metadata": {},
   "outputs": [
    {
     "data": {
      "text/plain": [
       "assists                             0\n",
       "boosts                              0\n",
       "damageDealt                         0\n",
       "DBNOs                               0\n",
       "headshotKills                       0\n",
       "heals                               0\n",
       "killPlace                           0\n",
       "killPoints                          0\n",
       "kills                               0\n",
       "killStreaks                         0\n",
       "longestKill                         0\n",
       "matchDuration                       0\n",
       "maxPlace                            0\n",
       "numGroups                           0\n",
       "rankPoints                          0\n",
       "revives                             0\n",
       "rideDistance                        0\n",
       "roadKills                           0\n",
       "swimDistance                        0\n",
       "teamKills                           0\n",
       "vehicleDestroys                     0\n",
       "walkDistance                        0\n",
       "weaponsAcquired                     0\n",
       "winPoints                           0\n",
       "winPlacePerc                        0\n",
       "Cant_jugadores                      0\n",
       "Kmtotal                             0\n",
       "Kill/CantJugad                      0\n",
       "Damage/CantJugad                    0\n",
       "DBNOs/CantJugad                     0\n",
       "headshotKills/CantJugad             0\n",
       "Kills/Kmtotal                   95624\n",
       "headshotKills/Kill            2525091\n",
       "Boosteos                            0\n",
       "KillsSinMoverse                     0\n",
       "matchType_crashfpp                  0\n",
       "matchType_crashtpp                  0\n",
       "matchType_duo                       0\n",
       "matchType_duo-fpp                   0\n",
       "matchType_flarefpp                  0\n",
       "matchType_flaretpp                  0\n",
       "matchType_normal-duo                0\n",
       "matchType_normal-duo-fpp            0\n",
       "matchType_normal-solo               0\n",
       "matchType_normal-solo-fpp           0\n",
       "matchType_normal-squad              0\n",
       "matchType_normal-squad-fpp          0\n",
       "matchType_solo                      0\n",
       "matchType_solo-fpp                  0\n",
       "matchType_squad                     0\n",
       "matchType_squad-fpp                 0\n",
       "groupId_cat                         0\n",
       "matchId_cat                         0\n",
       "dtype: int64"
      ]
     },
     "execution_count": 29,
     "metadata": {},
     "output_type": "execute_result"
    }
   ],
   "source": [
    "train.isnull().sum()"
   ]
  },
  {
   "cell_type": "code",
   "execution_count": 21,
   "metadata": {},
   "outputs": [
    {
     "name": "stderr",
     "output_type": "stream",
     "text": [
      "C:\\Users\\Juan Diego Bernate V\\Anaconda3\\lib\\site-packages\\sklearn\\ensemble\\weight_boosting.py:29: DeprecationWarning: numpy.core.umath_tests is an internal NumPy module and should not be imported. It will be removed in a future NumPy release.\n",
      "  from numpy.core.umath_tests import inner1d\n"
     ]
    }
   ],
   "source": [
    "## Modelos\n",
    "\n",
    "from sklearn.model_selection import train_test_split\n",
    "from sklearn.pipeline import make_pipeline\n",
    "from sklearn.model_selection import GridSearchCV\n",
    "from sklearn.ensemble import RandomForestRegressor\n",
    "from sklearn.ensemble import GradientBoostingRegressor\n",
    "from sklearn.metrics import mean_squared_error\n",
    "from sklearn.metrics import mean_absolute_error\n"
   ]
  },
  {
   "cell_type": "code",
   "execution_count": 29,
   "metadata": {},
   "outputs": [
    {
     "data": {
      "text/html": [
       "<div>\n",
       "<style scoped>\n",
       "    .dataframe tbody tr th:only-of-type {\n",
       "        vertical-align: middle;\n",
       "    }\n",
       "\n",
       "    .dataframe tbody tr th {\n",
       "        vertical-align: top;\n",
       "    }\n",
       "\n",
       "    .dataframe thead th {\n",
       "        text-align: right;\n",
       "    }\n",
       "</style>\n",
       "<table border=\"1\" class=\"dataframe\">\n",
       "  <thead>\n",
       "    <tr style=\"text-align: right;\">\n",
       "      <th></th>\n",
       "      <th>assists</th>\n",
       "      <th>boosts</th>\n",
       "      <th>damageDealt</th>\n",
       "      <th>DBNOs</th>\n",
       "      <th>headshotKills</th>\n",
       "      <th>heals</th>\n",
       "      <th>killPlace</th>\n",
       "      <th>killPoints</th>\n",
       "      <th>kills</th>\n",
       "      <th>killStreaks</th>\n",
       "      <th>...</th>\n",
       "      <th>matchType_normal-solo</th>\n",
       "      <th>matchType_normal-solo-fpp</th>\n",
       "      <th>matchType_normal-squad</th>\n",
       "      <th>matchType_normal-squad-fpp</th>\n",
       "      <th>matchType_solo</th>\n",
       "      <th>matchType_solo-fpp</th>\n",
       "      <th>matchType_squad</th>\n",
       "      <th>matchType_squad-fpp</th>\n",
       "      <th>groupId_cat</th>\n",
       "      <th>matchId_cat</th>\n",
       "    </tr>\n",
       "  </thead>\n",
       "  <tbody>\n",
       "    <tr>\n",
       "      <th>3776027</th>\n",
       "      <td>0</td>\n",
       "      <td>0</td>\n",
       "      <td>23.70</td>\n",
       "      <td>1</td>\n",
       "      <td>0</td>\n",
       "      <td>0</td>\n",
       "      <td>21</td>\n",
       "      <td>0</td>\n",
       "      <td>2</td>\n",
       "      <td>2</td>\n",
       "      <td>...</td>\n",
       "      <td>0</td>\n",
       "      <td>0</td>\n",
       "      <td>0</td>\n",
       "      <td>0</td>\n",
       "      <td>0</td>\n",
       "      <td>0</td>\n",
       "      <td>0</td>\n",
       "      <td>1</td>\n",
       "      <td>1635136</td>\n",
       "      <td>7060</td>\n",
       "    </tr>\n",
       "    <tr>\n",
       "      <th>1562668</th>\n",
       "      <td>1</td>\n",
       "      <td>0</td>\n",
       "      <td>445.40</td>\n",
       "      <td>0</td>\n",
       "      <td>1</td>\n",
       "      <td>1</td>\n",
       "      <td>5</td>\n",
       "      <td>0</td>\n",
       "      <td>4</td>\n",
       "      <td>1</td>\n",
       "      <td>...</td>\n",
       "      <td>0</td>\n",
       "      <td>0</td>\n",
       "      <td>0</td>\n",
       "      <td>0</td>\n",
       "      <td>0</td>\n",
       "      <td>1</td>\n",
       "      <td>0</td>\n",
       "      <td>0</td>\n",
       "      <td>1829752</td>\n",
       "      <td>23449</td>\n",
       "    </tr>\n",
       "    <tr>\n",
       "      <th>3217770</th>\n",
       "      <td>0</td>\n",
       "      <td>1</td>\n",
       "      <td>0.00</td>\n",
       "      <td>0</td>\n",
       "      <td>0</td>\n",
       "      <td>0</td>\n",
       "      <td>39</td>\n",
       "      <td>1247</td>\n",
       "      <td>0</td>\n",
       "      <td>0</td>\n",
       "      <td>...</td>\n",
       "      <td>0</td>\n",
       "      <td>0</td>\n",
       "      <td>0</td>\n",
       "      <td>0</td>\n",
       "      <td>0</td>\n",
       "      <td>0</td>\n",
       "      <td>1</td>\n",
       "      <td>0</td>\n",
       "      <td>225134</td>\n",
       "      <td>9893</td>\n",
       "    </tr>\n",
       "    <tr>\n",
       "      <th>1575450</th>\n",
       "      <td>0</td>\n",
       "      <td>0</td>\n",
       "      <td>97.11</td>\n",
       "      <td>0</td>\n",
       "      <td>0</td>\n",
       "      <td>0</td>\n",
       "      <td>68</td>\n",
       "      <td>1531</td>\n",
       "      <td>0</td>\n",
       "      <td>0</td>\n",
       "      <td>...</td>\n",
       "      <td>0</td>\n",
       "      <td>0</td>\n",
       "      <td>0</td>\n",
       "      <td>0</td>\n",
       "      <td>0</td>\n",
       "      <td>0</td>\n",
       "      <td>0</td>\n",
       "      <td>0</td>\n",
       "      <td>1972837</td>\n",
       "      <td>14298</td>\n",
       "    </tr>\n",
       "    <tr>\n",
       "      <th>2579934</th>\n",
       "      <td>1</td>\n",
       "      <td>1</td>\n",
       "      <td>162.30</td>\n",
       "      <td>0</td>\n",
       "      <td>0</td>\n",
       "      <td>0</td>\n",
       "      <td>35</td>\n",
       "      <td>1333</td>\n",
       "      <td>1</td>\n",
       "      <td>1</td>\n",
       "      <td>...</td>\n",
       "      <td>0</td>\n",
       "      <td>0</td>\n",
       "      <td>0</td>\n",
       "      <td>0</td>\n",
       "      <td>0</td>\n",
       "      <td>0</td>\n",
       "      <td>0</td>\n",
       "      <td>1</td>\n",
       "      <td>73702</td>\n",
       "      <td>12116</td>\n",
       "    </tr>\n",
       "  </tbody>\n",
       "</table>\n",
       "<p>5 rows × 51 columns</p>\n",
       "</div>"
      ],
      "text/plain": [
       "         assists  boosts  damageDealt  DBNOs  headshotKills  heals  killPlace  \\\n",
       "3776027        0       0        23.70      1              0      0         21   \n",
       "1562668        1       0       445.40      0              1      1          5   \n",
       "3217770        0       1         0.00      0              0      0         39   \n",
       "1575450        0       0        97.11      0              0      0         68   \n",
       "2579934        1       1       162.30      0              0      0         35   \n",
       "\n",
       "         killPoints  kills  killStreaks     ...       matchType_normal-solo  \\\n",
       "3776027           0      2            2     ...                           0   \n",
       "1562668           0      4            1     ...                           0   \n",
       "3217770        1247      0            0     ...                           0   \n",
       "1575450        1531      0            0     ...                           0   \n",
       "2579934        1333      1            1     ...                           0   \n",
       "\n",
       "         matchType_normal-solo-fpp  matchType_normal-squad  \\\n",
       "3776027                          0                       0   \n",
       "1562668                          0                       0   \n",
       "3217770                          0                       0   \n",
       "1575450                          0                       0   \n",
       "2579934                          0                       0   \n",
       "\n",
       "         matchType_normal-squad-fpp  matchType_solo  matchType_solo-fpp  \\\n",
       "3776027                           0               0                   0   \n",
       "1562668                           0               0                   1   \n",
       "3217770                           0               0                   0   \n",
       "1575450                           0               0                   0   \n",
       "2579934                           0               0                   0   \n",
       "\n",
       "         matchType_squad  matchType_squad-fpp  groupId_cat  matchId_cat  \n",
       "3776027                0                    1      1635136         7060  \n",
       "1562668                0                    0      1829752        23449  \n",
       "3217770                1                    0       225134         9893  \n",
       "1575450                0                    0      1972837        14298  \n",
       "2579934                0                    1        73702        12116  \n",
       "\n",
       "[5 rows x 51 columns]"
      ]
     },
     "execution_count": 29,
     "metadata": {},
     "output_type": "execute_result"
    }
   ],
   "source": [
    "#Sampleo porque no me da\n",
    "np.random.seed(123)\n",
    "ds=train.sample(n=400000)\n",
    "ds.head()"
   ]
  },
  {
   "cell_type": "code",
   "execution_count": 30,
   "metadata": {},
   "outputs": [
    {
     "name": "stdout",
     "output_type": "stream",
     "text": [
      "320000 80000\n"
     ]
    }
   ],
   "source": [
    "np.random.seed(123)\n",
    "\n",
    "X = ds.drop(['winPlacePerc'], axis=1)\n",
    "y = ds['winPlacePerc']\n",
    "X_train, X_test, y_train, y_test = train_test_split(\n",
    "    X, y, test_size=0.2, random_state=42)\n",
    "\n",
    "print(X_train.shape[0], X_test.shape[0])"
   ]
  },
  {
   "cell_type": "code",
   "execution_count": 131,
   "metadata": {},
   "outputs": [
    {
     "data": {
      "text/plain": [
       "dict_keys(['alpha', 'criterion', 'init', 'learning_rate', 'loss', 'max_depth', 'max_features', 'max_leaf_nodes', 'min_impurity_decrease', 'min_impurity_split', 'min_samples_leaf', 'min_samples_split', 'min_weight_fraction_leaf', 'n_estimators', 'presort', 'random_state', 'subsample', 'verbose', 'warm_start'])"
      ]
     },
     "execution_count": 131,
     "metadata": {},
     "output_type": "execute_result"
    }
   ],
   "source": [
    "#RandomForestRegressor().get_params().keys()\n",
    "GradientBoostingRegressor().get_params().keys()\n"
   ]
  },
  {
   "cell_type": "code",
   "execution_count": 31,
   "metadata": {},
   "outputs": [],
   "source": [
    "parameter_gridRFR = {\n",
    "   'n_estimators' : [2000, 2500],\n",
    "   'max_features': [0.5, 0.8, None, 'sqrt'],\n",
    "    'max_depth': [5, 10, 15, None],\n",
    "    'n_jobs':[-1]\n",
    "       }\n",
    "\n",
    "\n",
    "\n",
    "parameter_gridGBR = {\n",
    "    'learning_rate' : [0.1, 0.05, 0.01],\n",
    "       'n_estimators' : [ 2000, 2500],\n",
    "    'loss': ['ls', 'lad'],\n",
    "    'max_depth': [5, 10, 15, None]\n",
    "    }\n",
    "\n",
    "grid_search1 = GridSearchCV(RandomForestRegressor(n_jobs=-1), parameter_gridRFR,\n",
    "                            verbose=3, scoring ='mean_absolute_error')#cv=5#\n",
    "\n",
    "grid_search2 = GridSearchCV(GradientBoostingRegressor(), parameter_gridGBR,\n",
    "                             verbose=3, scoring ='mean_absolute_error')#cv=5#"
   ]
  },
  {
   "cell_type": "code",
   "execution_count": null,
   "metadata": {},
   "outputs": [
    {
     "name": "stdout",
     "output_type": "stream",
     "text": [
      "Fitting 3 folds for each of 32 candidates, totalling 96 fits\n",
      "[CV] max_depth=5, max_features=0.5, n_estimators=2000, n_jobs=-1 .....\n"
     ]
    }
   ],
   "source": [
    "#grid_search1.fit(X_train, y_train)"
   ]
  },
  {
   "cell_type": "code",
   "execution_count": 32,
   "metadata": {},
   "outputs": [],
   "source": [
    "from sklearn.metrics import mean_absolute_error\n",
    "\n",
    "\n",
    "def puntaje(m : RandomForestRegressor):\n",
    "    res = ['mae train: ', mean_absolute_error(m.predict(X_train), y_train), \n",
    "           'mae val: ', mean_absolute_error(m.predict(X_valid), y_valid)]\n",
    "    if hasattr(m, 'oob_score_'): res.append(m.oob_score_)\n",
    "    print(res)\n",
    "\n",
    "RFR=RandomForestRegressor(n_estimators= 1000,max_features= 0.5,verbose=3)\n",
    "GBR=GradientBoostingRegressor(n_estimators= 1000,max_depth= 0.5,verbose=3)"
   ]
  },
  {
   "cell_type": "code",
   "execution_count": 34,
   "metadata": {},
   "outputs": [
    {
     "ename": "NameError",
     "evalue": "name 'X_valid' is not defined",
     "output_type": "error",
     "traceback": [
      "\u001b[1;31m---------------------------------------------------------------------------\u001b[0m",
      "\u001b[1;31mNameError\u001b[0m                                 Traceback (most recent call last)",
      "\u001b[1;32m<ipython-input-34-0accded9701f>\u001b[0m in \u001b[0;36m<module>\u001b[1;34m()\u001b[0m\n\u001b[0;32m      1\u001b[0m \u001b[0mRFR\u001b[0m\u001b[1;33m.\u001b[0m\u001b[0mfit\u001b[0m\u001b[1;33m(\u001b[0m\u001b[0mX_train\u001b[0m\u001b[1;33m,\u001b[0m \u001b[0my_train\u001b[0m\u001b[1;33m)\u001b[0m\u001b[1;33m\u001b[0m\u001b[0m\n\u001b[1;32m----> 2\u001b[1;33m \u001b[0mpuntaje\u001b[0m\u001b[1;33m(\u001b[0m\u001b[0mRFR\u001b[0m\u001b[1;33m)\u001b[0m\u001b[1;33m\u001b[0m\u001b[0m\n\u001b[0m",
      "\u001b[1;32m<ipython-input-32-fa7ab5260c83>\u001b[0m in \u001b[0;36mpuntaje\u001b[1;34m(m)\u001b[0m\n\u001b[0;32m      4\u001b[0m \u001b[1;32mdef\u001b[0m \u001b[0mpuntaje\u001b[0m\u001b[1;33m(\u001b[0m\u001b[0mm\u001b[0m \u001b[1;33m:\u001b[0m \u001b[0mRandomForestRegressor\u001b[0m\u001b[1;33m)\u001b[0m\u001b[1;33m:\u001b[0m\u001b[1;33m\u001b[0m\u001b[0m\n\u001b[0;32m      5\u001b[0m     res = ['mae train: ', mean_absolute_error(m.predict(X_train), y_train), \n\u001b[1;32m----> 6\u001b[1;33m            'mae val: ', mean_absolute_error(m.predict(X_valid), y_valid)]\n\u001b[0m\u001b[0;32m      7\u001b[0m     \u001b[1;32mif\u001b[0m \u001b[0mhasattr\u001b[0m\u001b[1;33m(\u001b[0m\u001b[0mm\u001b[0m\u001b[1;33m,\u001b[0m \u001b[1;34m'oob_score_'\u001b[0m\u001b[1;33m)\u001b[0m\u001b[1;33m:\u001b[0m \u001b[0mres\u001b[0m\u001b[1;33m.\u001b[0m\u001b[0mappend\u001b[0m\u001b[1;33m(\u001b[0m\u001b[0mm\u001b[0m\u001b[1;33m.\u001b[0m\u001b[0moob_score_\u001b[0m\u001b[1;33m)\u001b[0m\u001b[1;33m\u001b[0m\u001b[0m\n\u001b[0;32m      8\u001b[0m     \u001b[0mprint\u001b[0m\u001b[1;33m(\u001b[0m\u001b[0mres\u001b[0m\u001b[1;33m)\u001b[0m\u001b[1;33m\u001b[0m\u001b[0m\n",
      "\u001b[1;31mNameError\u001b[0m: name 'X_valid' is not defined"
     ]
    }
   ],
   "source": [
    "RFR.fit(X_train, y_train)\n",
    "puntaje(RFR)\n"
   ]
  },
  {
   "cell_type": "code",
   "execution_count": null,
   "metadata": {},
   "outputs": [],
   "source": []
  },
  {
   "cell_type": "code",
   "execution_count": null,
   "metadata": {},
   "outputs": [],
   "source": []
  }
 ],
 "metadata": {
  "kernelspec": {
   "display_name": "Python 3",
   "language": "python",
   "name": "python3"
  },
  "language_info": {
   "codemirror_mode": {
    "name": "ipython",
    "version": 3
   },
   "file_extension": ".py",
   "mimetype": "text/x-python",
   "name": "python",
   "nbconvert_exporter": "python",
   "pygments_lexer": "ipython3",
   "version": "3.7.0"
  }
 },
 "nbformat": 4,
 "nbformat_minor": 2
}
